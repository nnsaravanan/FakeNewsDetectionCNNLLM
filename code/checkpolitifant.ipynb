{
 "cells": [
  {
   "cell_type": "code",
   "execution_count": 4,
   "metadata": {},
   "outputs": [],
   "source": [
    "import json"
   ]
  },
  {
   "cell_type": "code",
   "execution_count": 6,
   "metadata": {},
   "outputs": [],
   "source": [
    "import json\n",
    "\n",
    "data = []\n",
    "\n",
    "# Open the JSON file and read it line by line\n",
    "with open(\"../data/politifact.json\", \"r\") as file:\n",
    "    for line in file:\n",
    "        # Parse each line as a JSON object and append it to the 'data' list\n",
    "        data.append(json.loads(line))\n",
    "\n",
    "# Now, 'data' contains a list of dictionaries, each representing a JSON object from the file\n"
   ]
  },
  {
   "cell_type": "code",
   "execution_count": 9,
   "metadata": {},
   "outputs": [
    {
     "data": {
      "text/plain": [
       "{'verdict': 'true',\n",
       " 'statement_originator': 'Barack Obama',\n",
       " 'statement': 'John McCain opposed bankruptcy protections for families \"who were only in bankruptcy because of medical expenses they couldn\\'t pay.\"',\n",
       " 'statement_date': '6/11/2008',\n",
       " 'statement_source': 'speech',\n",
       " 'factchecker': 'Adriel Bettelheim',\n",
       " 'factcheck_date': '6/16/2008',\n",
       " 'factcheck_analysis_link': 'https://www.politifact.com/factchecks/2008/jun/16/barack-obama/no-exemptions-for-debtors/'}"
      ]
     },
     "execution_count": 9,
     "metadata": {},
     "output_type": "execute_result"
    }
   ],
   "source": [
    "data[0]"
   ]
  }
 ],
 "metadata": {
  "kernelspec": {
   "display_name": "base",
   "language": "python",
   "name": "python3"
  },
  "language_info": {
   "codemirror_mode": {
    "name": "ipython",
    "version": 3
   },
   "file_extension": ".py",
   "mimetype": "text/x-python",
   "name": "python",
   "nbconvert_exporter": "python",
   "pygments_lexer": "ipython3",
   "version": "3.9.18"
  }
 },
 "nbformat": 4,
 "nbformat_minor": 2
}
