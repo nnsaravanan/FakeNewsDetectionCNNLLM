{
 "cells": [
  {
   "cell_type": "code",
   "execution_count": 4,
   "metadata": {},
   "outputs": [],
   "source": [
    "import csv\n",
    "import pandas as pd\n",
    "import os\n"
   ]
  },
  {
   "cell_type": "code",
   "execution_count": 9,
   "metadata": {},
   "outputs": [],
   "source": [
    "df = pd.read_csv(\"../data/WELFake_Dataset.csv\")"
   ]
  },
  {
   "cell_type": "code",
   "execution_count": 24,
   "metadata": {},
   "outputs": [
    {
     "data": {
      "text/plain": [
       "label\n",
       "1    37106\n",
       "0    35028\n",
       "Name: count, dtype: int64"
      ]
     },
     "execution_count": 24,
     "metadata": {},
     "output_type": "execute_result"
    }
   ],
   "source": [
    "df['label'].value_counts()"
   ]
  },
  {
   "cell_type": "code",
   "execution_count": 22,
   "metadata": {},
   "outputs": [
    {
     "data": {
      "text/plain": [
       "'A dozen politically active pastors came here for a private dinner Friday night to hear a conversion story unique in the context of presidential politics: how Louisiana Gov. Bobby Jindal traveled from Hinduism to Protestant Christianity and, ultimately, became what he calls an “evangelical Catholic.”\\n\\nOver two hours, Jindal, 42, recalled talking with a girl in high school who wanted to “save my soul,” reading the Bible in a closet so his parents would not see him and feeling a stir while watching a movie during his senior year that depicted Jesus on the cross.\\n\\n“I was struck, and struck hard,” Jindal told the pastors. “This was the Son of God, and He had died for our sins.”\\n\\nJindal’s session with the Christian clergy, who lead congregations in the early presidential battleground states of Iowa and South Carolina, was part of a behind-the-scenes effort by the Louisiana governor to find a political base that could help propel him into the top tier of Republican candidates seeking to run for the White House in 2016.\\n\\nKnown in GOP circles mostly for his mastery of policy issues such as health care, Jindal, a Rhodes Scholar and graduate of the Ivy League’s Brown University, does not have an obvious pool of activist supporters to help drive excitement outside his home state. So he is harnessing his religious experience in a way that has begun to appeal to parts of the GOP’s influential core of religious conservatives, many of whom have yet to find a favorite among the Republicans eyeing the presidential race.\\n\\nOther potential 2016 GOP candidates are wooing the evangelical base, including Sens. Rand Paul (Ky.) and Ted Cruz (Tex.) and Indiana Gov. Mike Pence.\\n\\nBut over the weekend in Lynchburg — a mecca of sorts for evangelicals as the home of Liberty University, founded in the 1970s by the Rev. Jerry Falwell — Jindal appeared to make progress.\\n\\nIn addition to his dinner with the pastors, he delivered a well-received “call to action” address to 40,000 Christian conservatives gathered for Liberty’s commencement ceremony, talking again about his faith while assailing what he said was President Obama’s record of attacking religious liberty.\\n\\nThe pastors who came to meet Jindal said his intimate descriptions of his experiences stood out.\\n\\n“He has the convictions, and he has what it takes to communicate them,” said Brad Sherman of Solid Rock Christian Church in Coralville, Iowa. Sherman helped former Arkansas governor Mike Huckabee in his winning 2008 campaign for delegates in Iowa.\\n\\nAnother Huckabee admirer, the Rev. C. Mitchell Brooks of Second Baptist Church in Belton, S.C., said Jindal’s commitment to Christian values and his compelling story put him “on a par” with Huckabee, who was a Baptist preacher before entering politics.\\n\\nThe visiting pastors flew to Lynchburg over the weekend at the invitation of the American Renewal Project, a well-funded nonprofit group that encourages evangelical Christians to engage in the civic arena with voter guides, get-out-the-vote drives and programs to train pastors in grass-roots activism. The group’s founder, David Lane, has built a pastor network in politically important states such as Iowa, Missouri, Ohio and South Carolina and has led trips to Israel with Paul and others seeking to make inroads with evangelical activists.\\n\\nThe group that Lane invited to\\xa0Lynchburg included Donald Wild\\xadmon, a retired minister and founder of the American Family Association, a prominent evangelical activist group that has influence through its network of more than 140 Christian radio stations.\\n\\nMost of the pastors that Lane’s organization brought to Lynchburg had not met Jindal. But they said he captured their interest recently when he stepped forward to defend Phil Robertson, patriarch of the “Duck Dynasty” television-show family, amid a controversy over disparaging remarks he made about gays in an interview with GQ magazine.\\n\\nThroughout his Lynchburg visit, Jindal presented himself as a willing culture warrior.\\n\\nDuring his commencement address Saturday, he took up the cause of twin brothers whose HGTV reality series about renovating and reselling houses, “Flip It Forward,” was canceled last week after a Web site revealed that they had protested against same-sex marriage at the 2012 Democratic National Convention in Charlotte.\\n\\nThe siblings, Jason and David Benham, both Liberty graduates, attended the graduation and a private lunch with Jindal, who called the action against them “another demonstration of intolerance from the entertainment industry.”\\n\\n“If these guys had protested at the Republican Party convention, instead of canceling their show, HGTV would probably have given them a raise,” Jindal said as the Liberty crowd applauded.\\n\\nHe cited the Hobby Lobby craft store chain, which faced a legal challenge after refusing to provide employees with insurance coverage for contraceptives as required under the Affordable Care Act. Members of the family that owns Hobby Lobby, who have become heroes to many religious conservatives, have said that they are morally opposed to the use of certain types of birth control and that they considered the requirement a violation of their First Amendment right to religious freedom.\\n\\nThe family was “committed to honor the Lord by being generous employers, paying well above minimum wage and increasing salaries four years in a row even in the midst of the enduring recession,” Jindal told the Liberty graduates. “None of this matters to the Obama administration.”\\n\\nBut for the pastors who came to see Jindal in action, the governor’s own story was the highlight of the weekend. And in many ways, he was unlike any other aspiring president these activists had met.\\n\\nPiyush Jindal was born in 1971, four months after his parents arrived in Baton Rouge, La., from their native India. He changed his name to Bobby as a young boy, adopting the name of a character on a favorite television show, “The Brady Bunch.”\\n\\nHis decision to become a Christian, he told the pastors, did not come in one moment of lightning epiphany. Instead, he said, it happened in phases, growing from small seeds planted over time.\\n\\nJindal recalled that his closest friend from grade school gave him a Bible with his name emblazoned in gold on the cover as a Christmas present. It struck him initially as an unimpressive gift, Jindal told the pastors.\\n\\n“Who in the world would spend good money for a Bible when everyone knows you can get one free in any hotel?” he recalled thinking at the time. “And the gold lettering meant I couldn’t give it away or return it.”\\n\\nHis religious education reached a higher plane during his junior year in high school, he told his dinner audience. He wanted to ask a pretty girl on a date during a hallway conversation, and she started talking about her faith in God and her opposition to abortion. The girl invited him to visit her church.\\n\\nJindal said he was skeptical and set out to “investigate all these fanciful claims” made by the girl and other friends. He started reading the Bible in his closet at home. “I was unsure how my parents would react,” he said.\\n\\nAfter the stirring moment when he saw Christ depicted on the cross during the religious movie, the Bible and his very existence suddenly seemed clearer to him, Jindal told the pastors.\\n\\nJindal did not dwell on his subsequent conversion to Catholicism just a few years later in college, where he said he immersed himself in the traditions of the church.\\n\\nHe touched on it briefly during the commencement address, noting in passing that “I am best described as an evangelical Catholic.” Mostly, he sought to showcase the ways in which he shares values with other Christian conservatives.\\n\\n“I read the words of Jesus Christ, and I realized that they were true,” Jindal told the graduates Saturday, offering a less detailed accounting of his conversion than he had done the night before with the pastors. “I used to think that I had found God, but I believe it is more accurate to say that He found me.”'"
      ]
     },
     "execution_count": 22,
     "metadata": {},
     "output_type": "execute_result"
    }
   ],
   "source": [
    "df.loc[3, 'text']"
   ]
  },
  {
   "cell_type": "code",
   "execution_count": 25,
   "metadata": {},
   "outputs": [],
   "source": [
    "df6000 = df.sample(6000)"
   ]
  },
  {
   "cell_type": "code",
   "execution_count": 28,
   "metadata": {},
   "outputs": [],
   "source": [
    "df6000.to_csv('test6000.csv')"
   ]
  },
  {
   "cell_type": "code",
   "execution_count": 41,
   "metadata": {},
   "outputs": [
    {
     "data": {
      "text/plain": [
       "'NSA contractor accused of spying stole real names of US undercover officers   Intel News \\nClassified information stolen by a United States federal contractor, who was charged with espionage last month, includes the true identities of American intelligence officers posted in undercover assignments abroad, according to court documents. In August of this year, Harold Thomas Martin III, was arrested by the Federal Bureau of Investigation on charges of stealing government property and illegally removing classified material. Martin, 51, served as a US Navy officer for over a decade, where he acquired a top secret clearance and specialized in cyber security. At the time of his arrest earlier this year, he was working for Booz Allen Hamilton, one of the largest federal contractors in the US. Some media reports said Martin was a member of the National Security Agency’s Office of Tailored Access Operations, described by observers as an elite “hacker army” tasked with conducting offensive cyber espionage against foreign targets. \\nLast week, after prosecutors alleged that the information Martin removed from the NSA was the equivalent of 500 million pages, a judge in the US state of Maryland ruled that the accused might flee if he is released on bail. Soon afterwards, Martin’s legal team filed a motion asking the judge to reconsider his decision to deny him bail. That prompted a new filing by the prosecution, which was delivered to the court on Thursday. The document alleges that the information found in Martin’s home and car includes “numerous names” of American intelligence officers who currently “operate under cover outside the US”. The court filing adds that Martin’s removal of the documents from secure government facilities constitutes “a security breach that risks exposure of American intelligence operations” and “could endanger the lives” of undercover intelligence officers and their agents abroad. \\nIt is alleged that Martin told the FBI he never shared classified information with anyone, and that he removed it from his office at the NSA in order to deepen his expertise on his subject. His legal team argues that Martin suffers from a mental condition that compels him to be a hoarder. But prosecutors for the government argue in court documents that Martin appears to have communicated via the Internet with Russian speakers, and that he was learning Russian at the time of his arrest. The case is expected to be tried later this year.'"
      ]
     },
     "execution_count": 41,
     "metadata": {},
     "output_type": "execute_result"
    }
   ],
   "source": [
    "df6000.iloc[0,2]"
   ]
  },
  {
   "cell_type": "code",
   "execution_count": 42,
   "metadata": {},
   "outputs": [
    {
     "data": {
      "text/plain": [
       "array(['NSA contractor accused of spying stole real names of US undercover officers   Intel News \\nClassified information stolen by a United States federal contractor, who was charged with espionage last month, includes the true identities of American intelligence officers posted in undercover assignments abroad, according to court documents. In August of this year, Harold Thomas Martin III, was arrested by the Federal Bureau of Investigation on charges of stealing government property and illegally removing classified material. Martin, 51, served as a US Navy officer for over a decade, where he acquired a top secret clearance and specialized in cyber security. At the time of his arrest earlier this year, he was working for Booz Allen Hamilton, one of the largest federal contractors in the US. Some media reports said Martin was a member of the National Security Agency’s Office of Tailored Access Operations, described by observers as an elite “hacker army” tasked with conducting offensive cyber espionage against foreign targets. \\nLast week, after prosecutors alleged that the information Martin removed from the NSA was the equivalent of 500 million pages, a judge in the US state of Maryland ruled that the accused might flee if he is released on bail. Soon afterwards, Martin’s legal team filed a motion asking the judge to reconsider his decision to deny him bail. That prompted a new filing by the prosecution, which was delivered to the court on Thursday. The document alleges that the information found in Martin’s home and car includes “numerous names” of American intelligence officers who currently “operate under cover outside the US”. The court filing adds that Martin’s removal of the documents from secure government facilities constitutes “a security breach that risks exposure of American intelligence operations” and “could endanger the lives” of undercover intelligence officers and their agents abroad. \\nIt is alleged that Martin told the FBI he never shared classified information with anyone, and that he removed it from his office at the NSA in order to deepen his expertise on his subject. His legal team argues that Martin suffers from a mental condition that compels him to be a hoarder. But prosecutors for the government argue in court documents that Martin appears to have communicated via the Internet with Russian speakers, and that he was learning Russian at the time of his arrest. The case is expected to be tried later this year.',\n",
       "       'Tuesday 1 November 2016 by Neil Tollfree Theresa May seeks return of 1542 witchcraft act \\nPrime Minister Theresa is set to continue her plans to return to the traditions of Great Britain’s past by reintroducing the 1542 Witchcraft act. \\nBeginning with the return of Grammar Schools and followed by naked hostility to Europe, the reestablishment of the 1542 Witchcraft act appears to be further sign that a May premiership will not be afraid to lean on this country’s history. \\nThe witchcraft act will be officially announced in next year’s Queens Speech and will criminalise ‘ Invovacons or conjuracons of Sprites witchecraftes or sorceries .’ \\nMrs May was quick to deny claims that the criminalisation of witchcraft, like Grammar Schools and hostility to Europe were archaic nonsenses that should be consigned to the history books. \\n“Rubbish,” said the Prime Minister, interrupting her dinner of Frumenty and Lamphreys and dismissing her court Jester; Boris. \\n“I just believe that we are living in uncertain times, and I want to be clear that we will not tolerate the lower orders using devilments and wickedness in order to gain advantage over hard-working families.” \\nMrs May refused to deny claims that she plans to bring in a Witchfinder General and the burning of convicted witches at the stake. \\n“It is something that is being looked into,” she confirmed. \\n“I haven’t made any decision yet but, frankly, it does sound rather fun.” Get the best NewsThump stories in your mailbox every Friday, for FREE! There are currently ',\n",
       "       'Putin Prepares For World War 3 With Simulated Drills Across Russia \\n“This is very dangerous for Norway and Norwegians,” he said. \\n“How should we react to this? We have never before had Norway on the list of targets for our strategic weapons. But if this develops, Norway’s population will suffer,” he warned. \\n“Because we need to react against definitive military threats. And we have things to react to, I might as well tell it like it is,” Klintsevitsj added. \\nRussia has on several occasions criticized the plans to deploy 330 US troops at Værnes. Norway’s defence minister, Ine Eriksen Søreide, has rejected those criticisms and insisted that the deployment does not constitute a US military base but is rather a test run that will be evaluated during 2017. \\n“There is no objective reason for the Russians to react to this. But the Russians are reacting at the moment in the same way toward almost everything the Nato countries are doing,” Søreide said. \\nBefore joining Nato in 1949, Norway allayed Russian fears by pledging not to open its territory to foreign combat troops so long as Norway was not attacked or threatened with attack. \\nNorway’s government argues that Nato troops are already training regularly in the country and that the deployment of troops does not equate to the opening of a permanent American base. \\nThe US already has vast amounts of military equipment positioned in Norway — notably in tunnels dug into mountains — but no troops. \\nKlintsevitsj’s remarks bring to mind similar Russian comments made about Norway’s neighbour to the south, Denmark. \\nIn March 2015, Russia’s ambassador to Denmark warned that Danish ships will become Russian targets if Denmark joins Nato’s missile defence system. \\n“I don’t think the Danes fully understand the consequences of what will happen if Denmark joins the American-controlled missile defence. If it happens, Danish war ships will become targets for Russian atomic missiles,” Mikhail Vanin wrote in an opinion piece published by Jyllands-Posten.',\n",
       "       ...,\n",
       "       'Iowa Rep. Steve King (R-Of Course) is currently under fire for tweeting out something that would only be said by a white supremacist   that we can t  restore our civilization with somebody else s babies. While King s message earned ALLCAPS praise from former KKK leader David Duke, the rest of us are left wondering why Iowans would want this alleged man to represent their state.On Monday, King stopped by CNN to attempt to explain away his hateful tweet, and it didn t go well for him at all. Well, of course I meant exactly what I said,  King told CNN s  New Day  as he blamed  the Left  for wanting to destroy  Western civilization : This is an effort on the left, I think, to break down the American civilization, the American culture, and turn it into something entirely different. I m a champion for western civilization and yes our English language is a big part of it. It s a carrier of freedom. Embarrassingly, King refused to say that Muslim-Americans, Christian-Americans, and other Americans of different background are equal, instead saying that they contribute differently to our culture and our civilization. I d say they re all created in the image of God, and they re equal in his eyes. And if they re citizens of the United States, they re equal in the eyes of the law,  King said.  Individuals will contribute differently not equally to this civilization and certain groups of people will contribute more to this society than other groups of people will, that s just a statistical fact. King says he is  promoting the birth rate in America  to restore the  rule of law  to what he views as a  superior civilization. In short, he thinks white people need to have more babies.Watch the video below:Rep. Steve King defends his controversial tweet: \"I\\'m a champion for Western civilization\" https://t.co/9WJa7A89nH https://t.co/nZbCzzOMLz  CNN (@CNN) March 13, 2017Featured image via screengrab',\n",
       "       'Donald Trump very obviously has a specific type of woman he likes, and whom he prefers to represent him. He is a horrid misogynist who thinks women s worth lies solely in our ability to stir his penis to life (or not). He likes his women tall, thin, big-breasted basically supermodel quality. Knowing that, one would think that Sarah Huckabee Sanders doesn t fit his mold nearly well enough to be his press secretary, and yet, she is. Why?In a brilliant op-ed for the L.A Times, David Horsey turns a light bulb on about why Trump would prefer Sarah Sanders over virtually anyone else (including Sean Spicer)   she has a singular comfort with distorting the truth that Spicer never had, and she s obviously far more comfortable with it than anyone besides Kellyanne Conway. Horsey says: But now I get it. Anyone who is going to be tasked with the job of explaining this president to the news media needs to be comfortable with saying things that are demonstrably not true. That was the problem with Sanders  predecessor, Sean Spicer. Lying seemed to fluster him. When he was challenged on any blatantly erroneous statement, he would get red-faced and petulant. It was as if he was trying to signal a message to reporters:  Come on, guys, lay off! Don t make me humiliate myself on live TV!  [emphasis mine]By contrast, Sanders is perfectly fine with saying that Paul Manafort s indictment has nothing whatsoever to do with Trump. She had no issue spinning Trump s tax breaks for the wealthy into a $4,000/year raise for American families. Despite being a woman, she s perfectly fine saying that the women accusing Trump of sexual assault are all lying simply because that s Trump s position. As for the entire Russia scandal, including a report that Trump has lost his mind over it, Horsey says: Taking the offensive, Sanders confidently delivered the new Republican talking point that, if anyone were guilty of colluding with Moscow, it was Hillary Clinton   which is the boldest evasion anyone in the Trump camp has come up with, so far.  [emphasis mine]Horsey paints Sanders as the spin-meister she is   someone who effortlessly puts forth the idea that the facts of anything and everything are  nothing more than what you want them to be. By that new standard, Sanders is a pro.  [emphasis mine]And that, ladies and gentleman, is why Trump has her as his press secretary. He needs someone who has a demonstrable problem with the truth.Featured image via Mark Wilson/Getty Images',\n",
       "       ' '], dtype=object)"
      ]
     },
     "execution_count": 42,
     "metadata": {},
     "output_type": "execute_result"
    }
   ],
   "source": [
    "df6000['text'].to_numpy()"
   ]
  },
  {
   "cell_type": "code",
   "execution_count": 43,
   "metadata": {},
   "outputs": [
    {
     "data": {
      "text/plain": [
       "array([1, 1, 1, ..., 1, 1, 1])"
      ]
     },
     "execution_count": 43,
     "metadata": {},
     "output_type": "execute_result"
    }
   ],
   "source": [
    "df6000['label'].to_numpy()"
   ]
  },
  {
   "cell_type": "code",
   "execution_count": 44,
   "metadata": {},
   "outputs": [
    {
     "data": {
      "text/plain": [
       "True"
      ]
     },
     "execution_count": 44,
     "metadata": {},
     "output_type": "execute_result"
    }
   ],
   "source": [
    "len(df6000['label'].to_numpy()) == len(df6000['text'].to_numpy())"
   ]
  },
  {
   "cell_type": "code",
   "execution_count": 45,
   "metadata": {},
   "outputs": [],
   "source": [
    "import numpy as np\n",
    "\n",
    "conf = np.zeros((2,2))"
   ]
  },
  {
   "cell_type": "code",
   "execution_count": 47,
   "metadata": {},
   "outputs": [],
   "source": [
    "conf[0,0]+=1"
   ]
  },
  {
   "cell_type": "code",
   "execution_count": 48,
   "metadata": {},
   "outputs": [
    {
     "data": {
      "text/plain": [
       "array([[1., 0.],\n",
       "       [0., 0.]])"
      ]
     },
     "execution_count": 48,
     "metadata": {},
     "output_type": "execute_result"
    }
   ],
   "source": [
    "conf"
   ]
  },
  {
   "cell_type": "code",
   "execution_count": 51,
   "metadata": {},
   "outputs": [],
   "source": [
    "test = df6000['label'].to_numpy()"
   ]
  },
  {
   "cell_type": "code",
   "execution_count": 53,
   "metadata": {},
   "outputs": [
    {
     "data": {
      "text/plain": [
       "2"
      ]
     },
     "execution_count": 53,
     "metadata": {},
     "output_type": "execute_result"
    }
   ],
   "source": [
    "test[0]+1"
   ]
  },
  {
   "cell_type": "code",
   "execution_count": null,
   "metadata": {},
   "outputs": [],
   "source": []
  }
 ],
 "metadata": {
  "kernelspec": {
   "display_name": "base",
   "language": "python",
   "name": "python3"
  },
  "language_info": {
   "codemirror_mode": {
    "name": "ipython",
    "version": 3
   },
   "file_extension": ".py",
   "mimetype": "text/x-python",
   "name": "python",
   "nbconvert_exporter": "python",
   "pygments_lexer": "ipython3",
   "version": "3.9.18"
  }
 },
 "nbformat": 4,
 "nbformat_minor": 2
}
