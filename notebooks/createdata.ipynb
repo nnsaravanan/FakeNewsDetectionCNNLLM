{
 "cells": [
  {
   "cell_type": "code",
   "execution_count": 23,
   "metadata": {},
   "outputs": [],
   "source": [
    "# Add the parent directory to the path so that we can import the src module\n",
    "import os\n",
    "import sys\n",
    "module_path = os.path.abspath(os.path.join('..'))\n",
    "if module_path not in sys.path:\n",
    "    sys.path.append(module_path)"
   ]
  },
  {
   "cell_type": "code",
   "execution_count": 24,
   "metadata": {},
   "outputs": [],
   "source": [
    "import pandas as pd\n",
    "import json\n",
    "from Gemini import GeminiAPI, PromptLoader"
   ]
  },
  {
   "cell_type": "code",
   "execution_count": 25,
   "metadata": {},
   "outputs": [],
   "source": [
    "with open(\"../keys/googleapi\", 'r') as f:\n",
    "    key = f.read().strip()"
   ]
  },
  {
   "cell_type": "code",
   "execution_count": 26,
   "metadata": {},
   "outputs": [],
   "source": [
    "df = pd.read_csv(\"../data/test6000.csv\")"
   ]
  },
  {
   "cell_type": "code",
   "execution_count": 27,
   "metadata": {},
   "outputs": [
    {
     "data": {
      "text/html": [
       "<div>\n",
       "<style scoped>\n",
       "    .dataframe tbody tr th:only-of-type {\n",
       "        vertical-align: middle;\n",
       "    }\n",
       "\n",
       "    .dataframe tbody tr th {\n",
       "        vertical-align: top;\n",
       "    }\n",
       "\n",
       "    .dataframe thead th {\n",
       "        text-align: right;\n",
       "    }\n",
       "</style>\n",
       "<table border=\"1\" class=\"dataframe\">\n",
       "  <thead>\n",
       "    <tr style=\"text-align: right;\">\n",
       "      <th></th>\n",
       "      <th>Unnamed: 0.1</th>\n",
       "      <th>Unnamed: 0</th>\n",
       "      <th>title</th>\n",
       "      <th>text</th>\n",
       "      <th>label</th>\n",
       "    </tr>\n",
       "  </thead>\n",
       "  <tbody>\n",
       "    <tr>\n",
       "      <th>0</th>\n",
       "      <td>55509</td>\n",
       "      <td>55509</td>\n",
       "      <td>NSA contractor accused of spying stole real na...</td>\n",
       "      <td>NSA contractor accused of spying stole real na...</td>\n",
       "      <td>1</td>\n",
       "    </tr>\n",
       "    <tr>\n",
       "      <th>1</th>\n",
       "      <td>15903</td>\n",
       "      <td>15903</td>\n",
       "      <td>Theresa May seeks return of 1542 witchcraft act</td>\n",
       "      <td>Tuesday 1 November 2016 by Neil Tollfree There...</td>\n",
       "      <td>1</td>\n",
       "    </tr>\n",
       "    <tr>\n",
       "      <th>2</th>\n",
       "      <td>66602</td>\n",
       "      <td>66602</td>\n",
       "      <td>World War 3: Putin Declares Norway An ‘Enemy’ ...</td>\n",
       "      <td>Putin Prepares For World War 3 With Simulated ...</td>\n",
       "      <td>1</td>\n",
       "    </tr>\n",
       "    <tr>\n",
       "      <th>3</th>\n",
       "      <td>70002</td>\n",
       "      <td>70002</td>\n",
       "      <td>Russia’s Syria intervention may force choice o...</td>\n",
       "      <td>Russia’s military moves in Syria are fundament...</td>\n",
       "      <td>0</td>\n",
       "    </tr>\n",
       "    <tr>\n",
       "      <th>4</th>\n",
       "      <td>43459</td>\n",
       "      <td>43459</td>\n",
       "      <td>THE CARNAGE AND THE KINDNESS Of Good Samaritan...</td>\n",
       "      <td>The London terror attack was a horrific scene ...</td>\n",
       "      <td>1</td>\n",
       "    </tr>\n",
       "    <tr>\n",
       "      <th>...</th>\n",
       "      <td>...</td>\n",
       "      <td>...</td>\n",
       "      <td>...</td>\n",
       "      <td>...</td>\n",
       "      <td>...</td>\n",
       "    </tr>\n",
       "    <tr>\n",
       "      <th>5995</th>\n",
       "      <td>36983</td>\n",
       "      <td>36983</td>\n",
       "      <td>Sean Spicer Appeals to Conservatives on Ryanca...</td>\n",
       "      <td>White House Press Secretary Sean Spicer on Tue...</td>\n",
       "      <td>0</td>\n",
       "    </tr>\n",
       "    <tr>\n",
       "      <th>5996</th>\n",
       "      <td>36637</td>\n",
       "      <td>36637</td>\n",
       "      <td>Russia Kicked Off UN Human Rights Council, Whi...</td>\n",
       "      <td>By Jay Syrmopoulos Russia lost an election to ...</td>\n",
       "      <td>1</td>\n",
       "    </tr>\n",
       "    <tr>\n",
       "      <th>5997</th>\n",
       "      <td>41286</td>\n",
       "      <td>41286</td>\n",
       "      <td>Steve King Tries To Defend White Supremacist ...</td>\n",
       "      <td>Iowa Rep. Steve King (R-Of Course) is currentl...</td>\n",
       "      <td>1</td>\n",
       "    </tr>\n",
       "    <tr>\n",
       "      <th>5998</th>\n",
       "      <td>37971</td>\n",
       "      <td>37971</td>\n",
       "      <td>Sarah Huckabee Sanders SHREDDED By L.A. Times...</td>\n",
       "      <td>Donald Trump very obviously has a specific typ...</td>\n",
       "      <td>1</td>\n",
       "    </tr>\n",
       "    <tr>\n",
       "      <th>5999</th>\n",
       "      <td>16057</td>\n",
       "      <td>16057</td>\n",
       "      <td>James Bowman: “Vote For The Creep, It’s Import...</td>\n",
       "      <td></td>\n",
       "      <td>1</td>\n",
       "    </tr>\n",
       "  </tbody>\n",
       "</table>\n",
       "<p>6000 rows × 5 columns</p>\n",
       "</div>"
      ],
      "text/plain": [
       "      Unnamed: 0.1  Unnamed: 0  \\\n",
       "0            55509       55509   \n",
       "1            15903       15903   \n",
       "2            66602       66602   \n",
       "3            70002       70002   \n",
       "4            43459       43459   \n",
       "...            ...         ...   \n",
       "5995         36983       36983   \n",
       "5996         36637       36637   \n",
       "5997         41286       41286   \n",
       "5998         37971       37971   \n",
       "5999         16057       16057   \n",
       "\n",
       "                                                  title  \\\n",
       "0     NSA contractor accused of spying stole real na...   \n",
       "1       Theresa May seeks return of 1542 witchcraft act   \n",
       "2     World War 3: Putin Declares Norway An ‘Enemy’ ...   \n",
       "3     Russia’s Syria intervention may force choice o...   \n",
       "4     THE CARNAGE AND THE KINDNESS Of Good Samaritan...   \n",
       "...                                                 ...   \n",
       "5995  Sean Spicer Appeals to Conservatives on Ryanca...   \n",
       "5996  Russia Kicked Off UN Human Rights Council, Whi...   \n",
       "5997   Steve King Tries To Defend White Supremacist ...   \n",
       "5998   Sarah Huckabee Sanders SHREDDED By L.A. Times...   \n",
       "5999  James Bowman: “Vote For The Creep, It’s Import...   \n",
       "\n",
       "                                                   text  label  \n",
       "0     NSA contractor accused of spying stole real na...      1  \n",
       "1     Tuesday 1 November 2016 by Neil Tollfree There...      1  \n",
       "2     Putin Prepares For World War 3 With Simulated ...      1  \n",
       "3     Russia’s military moves in Syria are fundament...      0  \n",
       "4     The London terror attack was a horrific scene ...      1  \n",
       "...                                                 ...    ...  \n",
       "5995  White House Press Secretary Sean Spicer on Tue...      0  \n",
       "5996  By Jay Syrmopoulos Russia lost an election to ...      1  \n",
       "5997  Iowa Rep. Steve King (R-Of Course) is currentl...      1  \n",
       "5998  Donald Trump very obviously has a specific typ...      1  \n",
       "5999                                                         1  \n",
       "\n",
       "[6000 rows x 5 columns]"
      ]
     },
     "execution_count": 27,
     "metadata": {},
     "output_type": "execute_result"
    }
   ],
   "source": [
    "df"
   ]
  },
  {
   "cell_type": "code",
   "execution_count": 28,
   "metadata": {},
   "outputs": [],
   "source": [
    "texts = df[\"text\"].to_numpy()"
   ]
  },
  {
   "cell_type": "code",
   "execution_count": 29,
   "metadata": {},
   "outputs": [],
   "source": [
    "Gemini = GeminiAPI.Model(key)\n",
    "Loader = PromptLoader.PromptLoader(Gemini)"
   ]
  },
  {
   "cell_type": "code",
   "execution_count": 32,
   "metadata": {},
   "outputs": [],
   "source": [
    "def sendstuff(requirements, filename):\n",
    "    results = dict()\n",
    "    ct = 0\n",
    "    for i, phrase in enumerate(texts):\n",
    "        if ct == 1000:\n",
    "            break\n",
    "        try:\n",
    "            response = Loader.rephrase(requirements, phrase)\n",
    "            results[i] = response\n",
    "            with open(f\"../Data/{filename}.json\", 'w+') as f:\n",
    "                json.dump(results, f)\n",
    "                ct+=1\n",
    "        except Exception as e:\n",
    "            continue\n",
    "\n"
   ]
  },
  {
   "cell_type": "code",
   "execution_count": 27,
   "metadata": {},
   "outputs": [],
   "source": [
    "requirements = {\"Style\": \"New York Times\", \"Tone\": \"serious\", \"Negate\":True}\n",
    "sendstuff(requirements, \"results1\")"
   ]
  },
  {
   "cell_type": "code",
   "execution_count": null,
   "metadata": {},
   "outputs": [],
   "source": [
    "requirements = {\"Style\": \"Blog Post\", \"Tone\": \"semi-serious\", \"Negate\":True}\n",
    "sendstuff(requirements, \"results3\")"
   ]
  },
  {
   "cell_type": "code",
   "execution_count": null,
   "metadata": {},
   "outputs": [],
   "source": [
    "requirements = {\"Style\": \"Blog Post\", \"Tone\": \"semi-serious\"}\n",
    "sendstuff(requirements, \"results4\")"
   ]
  },
  {
   "cell_type": "code",
   "execution_count": 33,
   "metadata": {},
   "outputs": [],
   "source": [
    "requirements = {\"Style\": \"conversation\", \"Tone\": \"Casual\", \"Negate\":True}\n",
    "sendstuff(requirements, \"results5\")"
   ]
  },
  {
   "cell_type": "code",
   "execution_count": null,
   "metadata": {},
   "outputs": [],
   "source": [
    "requirements = {\"Style\": \"conversation\", \"Tone\": \"Casual\"}\n",
    "sendstuff(requirements, \"results6\")"
   ]
  },
  {
   "cell_type": "code",
   "execution_count": 10,
   "metadata": {},
   "outputs": [],
   "source": [
    "f = open('../Data/results1.json')\n",
    "data = json.load(f)"
   ]
  },
  {
   "cell_type": "code",
   "execution_count": 12,
   "metadata": {},
   "outputs": [
    {
     "data": {
      "text/plain": [
       "1901"
      ]
     },
     "execution_count": 12,
     "metadata": {},
     "output_type": "execute_result"
    }
   ],
   "source": [
    "len(data)"
   ]
  },
  {
   "cell_type": "code",
   "execution_count": null,
   "metadata": {},
   "outputs": [],
   "source": []
  }
 ],
 "metadata": {
  "kernelspec": {
   "display_name": "fakenews",
   "language": "python",
   "name": "python3"
  },
  "language_info": {
   "codemirror_mode": {
    "name": "ipython",
    "version": 3
   },
   "file_extension": ".py",
   "mimetype": "text/x-python",
   "name": "python",
   "nbconvert_exporter": "python",
   "pygments_lexer": "ipython3",
   "version": "3.12.3"
  }
 },
 "nbformat": 4,
 "nbformat_minor": 2
}
