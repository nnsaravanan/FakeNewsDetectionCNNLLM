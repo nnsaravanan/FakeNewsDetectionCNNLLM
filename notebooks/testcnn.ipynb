{
 "cells": [
  {
   "cell_type": "code",
   "execution_count": null,
   "metadata": {},
   "outputs": [],
   "source": [
    "# Add the parent directory to the path so that we can import the src module\n",
    "import os\n",
    "import sys\n",
    "module_path = os.path.abspath(os.path.join('..'))\n",
    "if module_path not in sys.path:\n",
    "    sys.path.append(module_path)"
   ]
  },
  {
   "cell_type": "code",
   "execution_count": null,
   "metadata": {},
   "outputs": [],
   "source": [
    "from cnn import cnn\n",
    "from dataloader import dataloader"
   ]
  },
  {
   "cell_type": "markdown",
   "metadata": {},
   "source": [
    "# Load the datasets"
   ]
  },
  {
   "cell_type": "code",
   "execution_count": null,
   "metadata": {},
   "outputs": [],
   "source": [
    "welfake = dataloader.DataLoader(\"test6000.csv\")\n",
    "NYTnegate = dataloader.DataLoader(\"NYTnegate.csv\")\n",
    "NYT = dataloader.DataLoader(\"NYT.csv\")\n",
    "casualnegate = dataloader.DataLoader(\"casualnegate.csv\")\n",
    "casual = dataloader.DataLoader(\"casual.csv\")"
   ]
  },
  {
   "cell_type": "markdown",
   "metadata": {},
   "source": [
    "# Make CNNs and Run them for each dataset"
   ]
  },
  {
   "cell_type": "code",
   "execution_count": null,
   "metadata": {},
   "outputs": [],
   "source": [
    "welfakemodel = cnn.FakeNewsCNN()\n",
    "welfakemodel.build_model(welfake)\n",
    "welfakemodel.summary()"
   ]
  },
  {
   "cell_type": "code",
   "execution_count": null,
   "metadata": {},
   "outputs": [],
   "source": [
    "welfakemodel.train(welfake, 30)\n",
    "welfakemodel.plot_training_history(welfakemodel.histories[0])"
   ]
  },
  {
   "cell_type": "code",
   "execution_count": null,
   "metadata": {},
   "outputs": [],
   "source": [
    "NYTnegatemodel = cnn.FakeNewsCNN()\n",
    "NYTnegatemodel.build_model(NYTnegate)\n",
    "NYTnegatemodel.summary()"
   ]
  },
  {
   "cell_type": "code",
   "execution_count": null,
   "metadata": {},
   "outputs": [],
   "source": [
    "NYTnegatemodel.train(NYTnegate, epochs=30)\n",
    "NYTnegatemodel.plot_training_history(NYTnegatemodel.histories[0])"
   ]
  },
  {
   "cell_type": "code",
   "execution_count": null,
   "metadata": {},
   "outputs": [],
   "source": [
    "NYTmodel = cnn.FakeNewsCNN()\n",
    "NYTmodel.build_model(NYT)\n",
    "NYTmodel.summary()"
   ]
  },
  {
   "cell_type": "code",
   "execution_count": null,
   "metadata": {},
   "outputs": [],
   "source": [
    "NYTmodel.train(NYT, epochs=30)\n",
    "NYTmodel.plot_training_history(NYTmodel.histories[0])"
   ]
  },
  {
   "cell_type": "code",
   "execution_count": null,
   "metadata": {},
   "outputs": [],
   "source": [
    "casualnegatemodel = cnn.FakeNewsCNN()\n",
    "casualnegatemodel.build_model(casualnegate)\n",
    "casualnegatemodel.summary()"
   ]
  },
  {
   "cell_type": "code",
   "execution_count": null,
   "metadata": {},
   "outputs": [],
   "source": [
    "casualnegatemodel.train(casualnegate, epochs=30)\n",
    "casualnegatemodel.plot_training_history(casualnegatemodel.histories[0])"
   ]
  },
  {
   "cell_type": "code",
   "execution_count": null,
   "metadata": {},
   "outputs": [],
   "source": [
    "casualmodel = cnn.FakeNewsCNN()\n",
    "casualmodel.build_model(casual)\n",
    "casualmodel.summary()"
   ]
  },
  {
   "cell_type": "code",
   "execution_count": null,
   "metadata": {},
   "outputs": [],
   "source": [
    "casualmodel.train(casualnegate, epochs=30)\n",
    "casualnegatemodel.plot_training_history(casualnegatemodel.histories[0])"
   ]
  }
 ],
 "metadata": {
  "kernelspec": {
   "display_name": "fakenews",
   "language": "python",
   "name": "python3"
  },
  "language_info": {
   "codemirror_mode": {
    "name": "ipython",
    "version": 3
   },
   "file_extension": ".py",
   "mimetype": "text/x-python",
   "name": "python",
   "nbconvert_exporter": "python",
   "pygments_lexer": "ipython3",
   "version": "3.8.18"
  }
 },
 "nbformat": 4,
 "nbformat_minor": 2
}
